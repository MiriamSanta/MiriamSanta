{
  "nbformat": 4,
  "nbformat_minor": 0,
  "metadata": {
    "colab": {
      "provenance": [],
      "authorship_tag": "ABX9TyNmofgEHfuLrwSx+0vGYrdS",
      "include_colab_link": true
    },
    "kernelspec": {
      "name": "python3",
      "display_name": "Python 3"
    },
    "language_info": {
      "name": "python"
    }
  },
  "cells": [
    {
      "cell_type": "markdown",
      "metadata": {
        "id": "view-in-github",
        "colab_type": "text"
      },
      "source": [
        "<a href=\"https://colab.research.google.com/github/MiriamSanta/MiriamSanta/blob/main/examen23_05.ipynb\" target=\"_parent\"><img src=\"https://colab.research.google.com/assets/colab-badge.svg\" alt=\"Open In Colab\"/></a>"
      ]
    },
    {
      "cell_type": "markdown",
      "source": [
        "Examen software statistic"
      ],
      "metadata": {
        "id": "8rDZW_W-6Pzi"
      }
    },
    {
      "cell_type": "code",
      "source": [
        "import pandas as pd\n",
        "import numpy as np\n",
        "import matplotlib.pyplot as plt\n",
        "import seaborn as sns\n",
        "\n",
        "cars = pd.read_csv(\"CARS.csv\")\n",
        "#eu am adăugat fisierul csv prin interfață ca să-mi funcționeze. Nu știu cum să iau calea din drive sau cum altfel să fac."
      ],
      "metadata": {
        "id": "nQQ8IXiX7GjG"
      },
      "execution_count": 12,
      "outputs": []
    },
    {
      "cell_type": "markdown",
      "source": [
        "1.Creează o listă cu numerele pare de la 2 la 10 (inclusiv), folosind range(). Afișează această listă invers, din 2 în 2 pași."
      ],
      "metadata": {
        "id": "P0HvV4XO6VOp"
      }
    },
    {
      "cell_type": "code",
      "execution_count": 13,
      "metadata": {
        "colab": {
          "base_uri": "https://localhost:8080/"
        },
        "id": "VBF0rJeexReZ",
        "outputId": "154ca0ed-ae1b-4a33-919b-7e1d2811dfa6"
      },
      "outputs": [
        {
          "output_type": "stream",
          "name": "stdout",
          "text": [
            "[10, 8, 6, 4, 2]\n"
          ]
        }
      ],
      "source": [
        "print(list(range(10, 1, -2)))"
      ]
    },
    {
      "cell_type": "markdown",
      "source": [
        "2. Calculează pătratul valorii Horsepower pentru a doua mașină din setul de date cars."
      ],
      "metadata": {
        "id": "YyOvb9pq6sA-"
      }
    },
    {
      "cell_type": "code",
      "source": [
        "print(cars.loc[1, \"Horsepower\"] ** 2)"
      ],
      "metadata": {
        "colab": {
          "base_uri": "https://localhost:8080/"
        },
        "id": "mgUWRIbm8nVz",
        "outputId": "3c279dd6-a5ec-409d-fc80-555a9c92f397"
      },
      "execution_count": 14,
      "outputs": [
        {
          "output_type": "stream",
          "name": "stdout",
          "text": [
            "40000\n"
          ]
        }
      ]
    },
    {
      "cell_type": "markdown",
      "source": [
        "3. Creează o funcție care primește o valoare numerică și returnează \"puternic\" dacă este peste 200, altfel \"normal\". Aplic-o asupra primelor 5 valori din Horsepower și afișează rezultatele."
      ],
      "metadata": {
        "id": "b6u8Bjeb6sD9"
      }
    },
    {
      "cell_type": "code",
      "source": [
        "cars.head()"
      ],
      "metadata": {
        "colab": {
          "base_uri": "https://localhost:8080/",
          "height": 206
        },
        "id": "gN_s3Yi2AwDA",
        "outputId": "f60ff720-91e8-45e4-e3b2-ea1e1fbe2cfd"
      },
      "execution_count": 23,
      "outputs": [
        {
          "output_type": "execute_result",
          "data": {
            "text/plain": [
              "    Make           Model   Type Origin DriveTrain     MSRP  Invoice  \\\n",
              "0  Acura             MDX    SUV   Asia        All  $36,945  $33,337   \n",
              "1  Acura  RSX Type S 2dr  Sedan   Asia      Front  $23,820  $21,761   \n",
              "2  Acura         TSX 4dr  Sedan   Asia      Front  $26,990  $24,647   \n",
              "3  Acura          TL 4dr  Sedan   Asia      Front  $33,195  $30,299   \n",
              "4  Acura      3.5 RL 4dr  Sedan   Asia      Front  $43,755  $39,014   \n",
              "\n",
              "   EngineSize  Cylinders  Horsepower  MPG_City  MPG_Highway  Weight  \\\n",
              "0         3.5        6.0         265        17           23    4451   \n",
              "1         2.0        4.0         200        24           31    2778   \n",
              "2         2.4        4.0         200        22           29    3230   \n",
              "3         3.2        6.0         270        20           28    3575   \n",
              "4         3.5        6.0         225        18           24    3880   \n",
              "\n",
              "   Wheelbase  Length  \n",
              "0        106     189  \n",
              "1        101     172  \n",
              "2        105     183  \n",
              "3        108     186  \n",
              "4        115     197  "
            ],
            "text/html": [
              "\n",
              "  <div id=\"df-ab6d1c5a-f802-4da0-8c03-9c7871ced79a\" class=\"colab-df-container\">\n",
              "    <div>\n",
              "<style scoped>\n",
              "    .dataframe tbody tr th:only-of-type {\n",
              "        vertical-align: middle;\n",
              "    }\n",
              "\n",
              "    .dataframe tbody tr th {\n",
              "        vertical-align: top;\n",
              "    }\n",
              "\n",
              "    .dataframe thead th {\n",
              "        text-align: right;\n",
              "    }\n",
              "</style>\n",
              "<table border=\"1\" class=\"dataframe\">\n",
              "  <thead>\n",
              "    <tr style=\"text-align: right;\">\n",
              "      <th></th>\n",
              "      <th>Make</th>\n",
              "      <th>Model</th>\n",
              "      <th>Type</th>\n",
              "      <th>Origin</th>\n",
              "      <th>DriveTrain</th>\n",
              "      <th>MSRP</th>\n",
              "      <th>Invoice</th>\n",
              "      <th>EngineSize</th>\n",
              "      <th>Cylinders</th>\n",
              "      <th>Horsepower</th>\n",
              "      <th>MPG_City</th>\n",
              "      <th>MPG_Highway</th>\n",
              "      <th>Weight</th>\n",
              "      <th>Wheelbase</th>\n",
              "      <th>Length</th>\n",
              "    </tr>\n",
              "  </thead>\n",
              "  <tbody>\n",
              "    <tr>\n",
              "      <th>0</th>\n",
              "      <td>Acura</td>\n",
              "      <td>MDX</td>\n",
              "      <td>SUV</td>\n",
              "      <td>Asia</td>\n",
              "      <td>All</td>\n",
              "      <td>$36,945</td>\n",
              "      <td>$33,337</td>\n",
              "      <td>3.5</td>\n",
              "      <td>6.0</td>\n",
              "      <td>265</td>\n",
              "      <td>17</td>\n",
              "      <td>23</td>\n",
              "      <td>4451</td>\n",
              "      <td>106</td>\n",
              "      <td>189</td>\n",
              "    </tr>\n",
              "    <tr>\n",
              "      <th>1</th>\n",
              "      <td>Acura</td>\n",
              "      <td>RSX Type S 2dr</td>\n",
              "      <td>Sedan</td>\n",
              "      <td>Asia</td>\n",
              "      <td>Front</td>\n",
              "      <td>$23,820</td>\n",
              "      <td>$21,761</td>\n",
              "      <td>2.0</td>\n",
              "      <td>4.0</td>\n",
              "      <td>200</td>\n",
              "      <td>24</td>\n",
              "      <td>31</td>\n",
              "      <td>2778</td>\n",
              "      <td>101</td>\n",
              "      <td>172</td>\n",
              "    </tr>\n",
              "    <tr>\n",
              "      <th>2</th>\n",
              "      <td>Acura</td>\n",
              "      <td>TSX 4dr</td>\n",
              "      <td>Sedan</td>\n",
              "      <td>Asia</td>\n",
              "      <td>Front</td>\n",
              "      <td>$26,990</td>\n",
              "      <td>$24,647</td>\n",
              "      <td>2.4</td>\n",
              "      <td>4.0</td>\n",
              "      <td>200</td>\n",
              "      <td>22</td>\n",
              "      <td>29</td>\n",
              "      <td>3230</td>\n",
              "      <td>105</td>\n",
              "      <td>183</td>\n",
              "    </tr>\n",
              "    <tr>\n",
              "      <th>3</th>\n",
              "      <td>Acura</td>\n",
              "      <td>TL 4dr</td>\n",
              "      <td>Sedan</td>\n",
              "      <td>Asia</td>\n",
              "      <td>Front</td>\n",
              "      <td>$33,195</td>\n",
              "      <td>$30,299</td>\n",
              "      <td>3.2</td>\n",
              "      <td>6.0</td>\n",
              "      <td>270</td>\n",
              "      <td>20</td>\n",
              "      <td>28</td>\n",
              "      <td>3575</td>\n",
              "      <td>108</td>\n",
              "      <td>186</td>\n",
              "    </tr>\n",
              "    <tr>\n",
              "      <th>4</th>\n",
              "      <td>Acura</td>\n",
              "      <td>3.5 RL 4dr</td>\n",
              "      <td>Sedan</td>\n",
              "      <td>Asia</td>\n",
              "      <td>Front</td>\n",
              "      <td>$43,755</td>\n",
              "      <td>$39,014</td>\n",
              "      <td>3.5</td>\n",
              "      <td>6.0</td>\n",
              "      <td>225</td>\n",
              "      <td>18</td>\n",
              "      <td>24</td>\n",
              "      <td>3880</td>\n",
              "      <td>115</td>\n",
              "      <td>197</td>\n",
              "    </tr>\n",
              "  </tbody>\n",
              "</table>\n",
              "</div>\n",
              "    <div class=\"colab-df-buttons\">\n",
              "\n",
              "  <div class=\"colab-df-container\">\n",
              "    <button class=\"colab-df-convert\" onclick=\"convertToInteractive('df-ab6d1c5a-f802-4da0-8c03-9c7871ced79a')\"\n",
              "            title=\"Convert this dataframe to an interactive table.\"\n",
              "            style=\"display:none;\">\n",
              "\n",
              "  <svg xmlns=\"http://www.w3.org/2000/svg\" height=\"24px\" viewBox=\"0 -960 960 960\">\n",
              "    <path d=\"M120-120v-720h720v720H120Zm60-500h600v-160H180v160Zm220 220h160v-160H400v160Zm0 220h160v-160H400v160ZM180-400h160v-160H180v160Zm440 0h160v-160H620v160ZM180-180h160v-160H180v160Zm440 0h160v-160H620v160Z\"/>\n",
              "  </svg>\n",
              "    </button>\n",
              "\n",
              "  <style>\n",
              "    .colab-df-container {\n",
              "      display:flex;\n",
              "      gap: 12px;\n",
              "    }\n",
              "\n",
              "    .colab-df-convert {\n",
              "      background-color: #E8F0FE;\n",
              "      border: none;\n",
              "      border-radius: 50%;\n",
              "      cursor: pointer;\n",
              "      display: none;\n",
              "      fill: #1967D2;\n",
              "      height: 32px;\n",
              "      padding: 0 0 0 0;\n",
              "      width: 32px;\n",
              "    }\n",
              "\n",
              "    .colab-df-convert:hover {\n",
              "      background-color: #E2EBFA;\n",
              "      box-shadow: 0px 1px 2px rgba(60, 64, 67, 0.3), 0px 1px 3px 1px rgba(60, 64, 67, 0.15);\n",
              "      fill: #174EA6;\n",
              "    }\n",
              "\n",
              "    .colab-df-buttons div {\n",
              "      margin-bottom: 4px;\n",
              "    }\n",
              "\n",
              "    [theme=dark] .colab-df-convert {\n",
              "      background-color: #3B4455;\n",
              "      fill: #D2E3FC;\n",
              "    }\n",
              "\n",
              "    [theme=dark] .colab-df-convert:hover {\n",
              "      background-color: #434B5C;\n",
              "      box-shadow: 0px 1px 3px 1px rgba(0, 0, 0, 0.15);\n",
              "      filter: drop-shadow(0px 1px 2px rgba(0, 0, 0, 0.3));\n",
              "      fill: #FFFFFF;\n",
              "    }\n",
              "  </style>\n",
              "\n",
              "    <script>\n",
              "      const buttonEl =\n",
              "        document.querySelector('#df-ab6d1c5a-f802-4da0-8c03-9c7871ced79a button.colab-df-convert');\n",
              "      buttonEl.style.display =\n",
              "        google.colab.kernel.accessAllowed ? 'block' : 'none';\n",
              "\n",
              "      async function convertToInteractive(key) {\n",
              "        const element = document.querySelector('#df-ab6d1c5a-f802-4da0-8c03-9c7871ced79a');\n",
              "        const dataTable =\n",
              "          await google.colab.kernel.invokeFunction('convertToInteractive',\n",
              "                                                    [key], {});\n",
              "        if (!dataTable) return;\n",
              "\n",
              "        const docLinkHtml = 'Like what you see? Visit the ' +\n",
              "          '<a target=\"_blank\" href=https://colab.research.google.com/notebooks/data_table.ipynb>data table notebook</a>'\n",
              "          + ' to learn more about interactive tables.';\n",
              "        element.innerHTML = '';\n",
              "        dataTable['output_type'] = 'display_data';\n",
              "        await google.colab.output.renderOutput(dataTable, element);\n",
              "        const docLink = document.createElement('div');\n",
              "        docLink.innerHTML = docLinkHtml;\n",
              "        element.appendChild(docLink);\n",
              "      }\n",
              "    </script>\n",
              "  </div>\n",
              "\n",
              "\n",
              "    <div id=\"df-b9575c18-80fe-4643-9083-f27b955a7ee0\">\n",
              "      <button class=\"colab-df-quickchart\" onclick=\"quickchart('df-b9575c18-80fe-4643-9083-f27b955a7ee0')\"\n",
              "                title=\"Suggest charts\"\n",
              "                style=\"display:none;\">\n",
              "\n",
              "<svg xmlns=\"http://www.w3.org/2000/svg\" height=\"24px\"viewBox=\"0 0 24 24\"\n",
              "     width=\"24px\">\n",
              "    <g>\n",
              "        <path d=\"M19 3H5c-1.1 0-2 .9-2 2v14c0 1.1.9 2 2 2h14c1.1 0 2-.9 2-2V5c0-1.1-.9-2-2-2zM9 17H7v-7h2v7zm4 0h-2V7h2v10zm4 0h-2v-4h2v4z\"/>\n",
              "    </g>\n",
              "</svg>\n",
              "      </button>\n",
              "\n",
              "<style>\n",
              "  .colab-df-quickchart {\n",
              "      --bg-color: #E8F0FE;\n",
              "      --fill-color: #1967D2;\n",
              "      --hover-bg-color: #E2EBFA;\n",
              "      --hover-fill-color: #174EA6;\n",
              "      --disabled-fill-color: #AAA;\n",
              "      --disabled-bg-color: #DDD;\n",
              "  }\n",
              "\n",
              "  [theme=dark] .colab-df-quickchart {\n",
              "      --bg-color: #3B4455;\n",
              "      --fill-color: #D2E3FC;\n",
              "      --hover-bg-color: #434B5C;\n",
              "      --hover-fill-color: #FFFFFF;\n",
              "      --disabled-bg-color: #3B4455;\n",
              "      --disabled-fill-color: #666;\n",
              "  }\n",
              "\n",
              "  .colab-df-quickchart {\n",
              "    background-color: var(--bg-color);\n",
              "    border: none;\n",
              "    border-radius: 50%;\n",
              "    cursor: pointer;\n",
              "    display: none;\n",
              "    fill: var(--fill-color);\n",
              "    height: 32px;\n",
              "    padding: 0;\n",
              "    width: 32px;\n",
              "  }\n",
              "\n",
              "  .colab-df-quickchart:hover {\n",
              "    background-color: var(--hover-bg-color);\n",
              "    box-shadow: 0 1px 2px rgba(60, 64, 67, 0.3), 0 1px 3px 1px rgba(60, 64, 67, 0.15);\n",
              "    fill: var(--button-hover-fill-color);\n",
              "  }\n",
              "\n",
              "  .colab-df-quickchart-complete:disabled,\n",
              "  .colab-df-quickchart-complete:disabled:hover {\n",
              "    background-color: var(--disabled-bg-color);\n",
              "    fill: var(--disabled-fill-color);\n",
              "    box-shadow: none;\n",
              "  }\n",
              "\n",
              "  .colab-df-spinner {\n",
              "    border: 2px solid var(--fill-color);\n",
              "    border-color: transparent;\n",
              "    border-bottom-color: var(--fill-color);\n",
              "    animation:\n",
              "      spin 1s steps(1) infinite;\n",
              "  }\n",
              "\n",
              "  @keyframes spin {\n",
              "    0% {\n",
              "      border-color: transparent;\n",
              "      border-bottom-color: var(--fill-color);\n",
              "      border-left-color: var(--fill-color);\n",
              "    }\n",
              "    20% {\n",
              "      border-color: transparent;\n",
              "      border-left-color: var(--fill-color);\n",
              "      border-top-color: var(--fill-color);\n",
              "    }\n",
              "    30% {\n",
              "      border-color: transparent;\n",
              "      border-left-color: var(--fill-color);\n",
              "      border-top-color: var(--fill-color);\n",
              "      border-right-color: var(--fill-color);\n",
              "    }\n",
              "    40% {\n",
              "      border-color: transparent;\n",
              "      border-right-color: var(--fill-color);\n",
              "      border-top-color: var(--fill-color);\n",
              "    }\n",
              "    60% {\n",
              "      border-color: transparent;\n",
              "      border-right-color: var(--fill-color);\n",
              "    }\n",
              "    80% {\n",
              "      border-color: transparent;\n",
              "      border-right-color: var(--fill-color);\n",
              "      border-bottom-color: var(--fill-color);\n",
              "    }\n",
              "    90% {\n",
              "      border-color: transparent;\n",
              "      border-bottom-color: var(--fill-color);\n",
              "    }\n",
              "  }\n",
              "</style>\n",
              "\n",
              "      <script>\n",
              "        async function quickchart(key) {\n",
              "          const quickchartButtonEl =\n",
              "            document.querySelector('#' + key + ' button');\n",
              "          quickchartButtonEl.disabled = true;  // To prevent multiple clicks.\n",
              "          quickchartButtonEl.classList.add('colab-df-spinner');\n",
              "          try {\n",
              "            const charts = await google.colab.kernel.invokeFunction(\n",
              "                'suggestCharts', [key], {});\n",
              "          } catch (error) {\n",
              "            console.error('Error during call to suggestCharts:', error);\n",
              "          }\n",
              "          quickchartButtonEl.classList.remove('colab-df-spinner');\n",
              "          quickchartButtonEl.classList.add('colab-df-quickchart-complete');\n",
              "        }\n",
              "        (() => {\n",
              "          let quickchartButtonEl =\n",
              "            document.querySelector('#df-b9575c18-80fe-4643-9083-f27b955a7ee0 button');\n",
              "          quickchartButtonEl.style.display =\n",
              "            google.colab.kernel.accessAllowed ? 'block' : 'none';\n",
              "        })();\n",
              "      </script>\n",
              "    </div>\n",
              "\n",
              "    </div>\n",
              "  </div>\n"
            ],
            "application/vnd.google.colaboratory.intrinsic+json": {
              "type": "dataframe",
              "variable_name": "cars",
              "summary": "{\n  \"name\": \"cars\",\n  \"rows\": 428,\n  \"fields\": [\n    {\n      \"column\": \"Make\",\n      \"properties\": {\n        \"dtype\": \"category\",\n        \"num_unique_values\": 38,\n        \"samples\": [\n          \"Subaru\",\n          \"Volkswagen\",\n          \"Cadillac\"\n        ],\n        \"semantic_type\": \"\",\n        \"description\": \"\"\n      }\n    },\n    {\n      \"column\": \"Model\",\n      \"properties\": {\n        \"dtype\": \"string\",\n        \"num_unique_values\": 425,\n        \"samples\": [\n          \"S60 R 4dr\",\n          \"Monte Carlo LS 2dr\",\n          \"XG350 4dr\"\n        ],\n        \"semantic_type\": \"\",\n        \"description\": \"\"\n      }\n    },\n    {\n      \"column\": \"Type\",\n      \"properties\": {\n        \"dtype\": \"category\",\n        \"num_unique_values\": 6,\n        \"samples\": [\n          \"SUV\",\n          \"Sedan\",\n          \"Hybrid\"\n        ],\n        \"semantic_type\": \"\",\n        \"description\": \"\"\n      }\n    },\n    {\n      \"column\": \"Origin\",\n      \"properties\": {\n        \"dtype\": \"category\",\n        \"num_unique_values\": 3,\n        \"samples\": [\n          \"Asia\",\n          \"Europe\",\n          \"USA\"\n        ],\n        \"semantic_type\": \"\",\n        \"description\": \"\"\n      }\n    },\n    {\n      \"column\": \"DriveTrain\",\n      \"properties\": {\n        \"dtype\": \"category\",\n        \"num_unique_values\": 3,\n        \"samples\": [\n          \"All\",\n          \"Front\",\n          \"Rear\"\n        ],\n        \"semantic_type\": \"\",\n        \"description\": \"\"\n      }\n    },\n    {\n      \"column\": \"MSRP\",\n      \"properties\": {\n        \"dtype\": \"string\",\n        \"num_unique_values\": 410,\n        \"samples\": [\n          \"$24,589\",\n          \"$14,385\",\n          \"$20,320\"\n        ],\n        \"semantic_type\": \"\",\n        \"description\": \"\"\n      }\n    },\n    {\n      \"column\": \"Invoice\",\n      \"properties\": {\n        \"dtype\": \"string\",\n        \"num_unique_values\": 425,\n        \"samples\": [\n          \"$35,382\",\n          \"$20,026\",\n          \"$23,486\"\n        ],\n        \"semantic_type\": \"\",\n        \"description\": \"\"\n      }\n    },\n    {\n      \"column\": \"EngineSize\",\n      \"properties\": {\n        \"dtype\": \"number\",\n        \"std\": 1.1085947183514753,\n        \"min\": 1.3,\n        \"max\": 8.3,\n        \"num_unique_values\": 43,\n        \"samples\": [\n          2.6,\n          8.3,\n          3.7\n        ],\n        \"semantic_type\": \"\",\n        \"description\": \"\"\n      }\n    },\n    {\n      \"column\": \"Cylinders\",\n      \"properties\": {\n        \"dtype\": \"number\",\n        \"std\": 1.5584426332202217,\n        \"min\": 3.0,\n        \"max\": 12.0,\n        \"num_unique_values\": 7,\n        \"samples\": [\n          6.0,\n          4.0,\n          12.0\n        ],\n        \"semantic_type\": \"\",\n        \"description\": \"\"\n      }\n    },\n    {\n      \"column\": \"Horsepower\",\n      \"properties\": {\n        \"dtype\": \"number\",\n        \"std\": 71,\n        \"min\": 73,\n        \"max\": 500,\n        \"num_unique_values\": 110,\n        \"samples\": [\n          197,\n          340,\n          290\n        ],\n        \"semantic_type\": \"\",\n        \"description\": \"\"\n      }\n    },\n    {\n      \"column\": \"MPG_City\",\n      \"properties\": {\n        \"dtype\": \"number\",\n        \"std\": 5,\n        \"min\": 10,\n        \"max\": 60,\n        \"num_unique_values\": 28,\n        \"samples\": [\n          16,\n          35,\n          21\n        ],\n        \"semantic_type\": \"\",\n        \"description\": \"\"\n      }\n    },\n    {\n      \"column\": \"MPG_Highway\",\n      \"properties\": {\n        \"dtype\": \"number\",\n        \"std\": 5,\n        \"min\": 12,\n        \"max\": 66,\n        \"num_unique_values\": 33,\n        \"samples\": [\n          39,\n          37,\n          16\n        ],\n        \"semantic_type\": \"\",\n        \"description\": \"\"\n      }\n    },\n    {\n      \"column\": \"Weight\",\n      \"properties\": {\n        \"dtype\": \"number\",\n        \"std\": 758,\n        \"min\": 1850,\n        \"max\": 7190,\n        \"num_unique_values\": 348,\n        \"samples\": [\n          2656,\n          3346,\n          2055\n        ],\n        \"semantic_type\": \"\",\n        \"description\": \"\"\n      }\n    },\n    {\n      \"column\": \"Wheelbase\",\n      \"properties\": {\n        \"dtype\": \"number\",\n        \"std\": 8,\n        \"min\": 89,\n        \"max\": 144,\n        \"num_unique_values\": 40,\n        \"samples\": [\n          112,\n          123,\n          118\n        ],\n        \"semantic_type\": \"\",\n        \"description\": \"\"\n      }\n    },\n    {\n      \"column\": \"Length\",\n      \"properties\": {\n        \"dtype\": \"number\",\n        \"std\": 14,\n        \"min\": 143,\n        \"max\": 238,\n        \"num_unique_values\": 67,\n        \"samples\": [\n          169,\n          198,\n          197\n        ],\n        \"semantic_type\": \"\",\n        \"description\": \"\"\n      }\n    }\n  ]\n}"
            }
          },
          "metadata": {},
          "execution_count": 23
        }
      ]
    },
    {
      "cell_type": "code",
      "source": [
        "def putere(x): return \"puternic\" if x > 200 else \"normal\"\n",
        "print(list(map(putere, cars[\"Horsepower\"].head(5))))"
      ],
      "metadata": {
        "colab": {
          "base_uri": "https://localhost:8080/"
        },
        "id": "B-wieX6b8n80",
        "outputId": "e285e21b-be8a-4890-e15c-86da60045da4"
      },
      "execution_count": 15,
      "outputs": [
        {
          "output_type": "stream",
          "name": "stdout",
          "text": [
            "['puternic', 'normal', 'normal', 'puternic', 'puternic']\n"
          ]
        }
      ]
    },
    {
      "cell_type": "markdown",
      "source": [
        "4.Extrage primele 6 valori din coloana DriveTrain. Afișează doar acele valori care sunt egale cu valoarea de pe prima poziție (index 0) din acea coloană."
      ],
      "metadata": {
        "id": "8-M4YVNV6sGJ"
      }
    },
    {
      "cell_type": "code",
      "source": [
        "dt = cars[\"DriveTrain\"].head(6)\n",
        "print(dt[dt == dt.iloc[0]])"
      ],
      "metadata": {
        "colab": {
          "base_uri": "https://localhost:8080/"
        },
        "id": "_pn1eF3O8pCh",
        "outputId": "bf79f582-b259-4b64-8a91-f320448906c6"
      },
      "execution_count": 16,
      "outputs": [
        {
          "output_type": "stream",
          "name": "stdout",
          "text": [
            "0    All\n",
            "Name: DriveTrain, dtype: object\n"
          ]
        }
      ]
    },
    {
      "cell_type": "markdown",
      "source": [
        "5. Afișează de câte ori apare fiecare valoare din coloana Origin. Afișează și proporția fiecărei valori, în procente, rotunjită la 3 zecimale."
      ],
      "metadata": {
        "id": "qU1mOFMl6sJt"
      }
    },
    {
      "cell_type": "code",
      "source": [
        "origin_freq = cars[\"Origin\"].value_counts(normalize=True).round(3) * 100\n",
        "print(cars[\"Origin\"].value_counts())\n",
        "print(origin_freq)"
      ],
      "metadata": {
        "colab": {
          "base_uri": "https://localhost:8080/"
        },
        "id": "p4e-Wq_Z8p8H",
        "outputId": "65b1224b-9698-42ee-e986-e8c7869cf20b"
      },
      "execution_count": 17,
      "outputs": [
        {
          "output_type": "stream",
          "name": "stdout",
          "text": [
            "Origin\n",
            "Asia      158\n",
            "USA       147\n",
            "Europe    123\n",
            "Name: count, dtype: int64\n",
            "Origin\n",
            "Asia      36.9\n",
            "USA       34.3\n",
            "Europe    28.7\n",
            "Name: proportion, dtype: float64\n"
          ]
        }
      ]
    },
    {
      "cell_type": "markdown",
      "source": [
        "6. Creează două histograme suprapuse verticale care arată distribuția variabilei Horsepower:\n",
        " 1.prima histograma sa aiba 8 bare\n",
        " 2. a doua histograma sa aiba 25 bare"
      ],
      "metadata": {
        "id": "vegLD35W7yOD"
      }
    },
    {
      "cell_type": "code",
      "source": [
        "plt.figure(figsize=(10,5))\n",
        "sns.histplot(cars[\"Horsepower\"], bins=8, color=\"blue\", label=\"histograma1\")\n",
        "sns.histplot(cars[\"Horsepower\"], bins=25, color=\"pink\", label=\"histograma2\")\n",
        "plt.legend()\n",
        "plt.show()"
      ],
      "metadata": {
        "colab": {
          "base_uri": "https://localhost:8080/",
          "height": 465
        },
        "id": "Xevlmva08qm3",
        "outputId": "c13795fd-8ae6-4cb4-8d45-21beedfdb1b4"
      },
      "execution_count": 25,
      "outputs": [
        {
          "output_type": "display_data",
          "data": {
            "text/plain": [
              "<Figure size 1000x500 with 1 Axes>"
            ],
            "image/png": "[encoded data removed]"
          },
          "metadata": {}
        }
      ]
    },
    {
      "cell_type": "markdown",
      "source": [
        "7. Afișează un boxplot vertical pentru variabila Horsepower. Activează opțiunea de afișare a mediei pe grafic. Apoi:\n",
        "\n",
        "1.Calculează media și mediana acestei variabile;\n",
        "\n",
        "2.Spune care este mai mare și explică ce indică acest lucru despre forma distribuției;\n",
        "\n",
        "3.Identifică dacă există valori extreme (outlieri)."
      ],
      "metadata": {
        "id": "EYNqHQ9L8GJv"
      }
    },
    {
      "cell_type": "code",
      "source": [
        "sns.boxplot(y=cars[\"Horsepower\"], showmeans=True)\n",
        "plt.show()\n",
        "\n",
        "hp = cars[\"Horsepower\"]\n",
        "print(hp.mean())\n",
        "print(hp.median())\n",
        "\n",
        "q1 = hp.quantile(0.25)\n",
        "q3 = hp.quantile(0.75)\n",
        "iqr = q3 - q1\n",
        "outliers = hp[(hp < q1 - 1.5 * iqr) | (hp > q3 + 1.5 * iqr)]\n",
        "print(outliers)\n"
      ],
      "metadata": {
        "colab": {
          "base_uri": "https://localhost:8080/",
          "height": 593
        },
        "id": "YUsx_Edu8ryM",
        "outputId": "daad4686-e370-4084-d406-00d9000007fc"
      },
      "execution_count": 29,
      "outputs": [
        {
          "output_type": "display_data",
          "data": {
            "text/plain": [
              "<Figure size 640x480 with 1 Axes>"
            ],
            "image/png": "[encoded data removed]"
          },
          "metadata": {}
        },
        {
          "output_type": "stream",
          "name": "stdout",
          "text": [
            "215.8855140186916\n",
            "210.0\n",
            "20     450\n",
            "114    500\n",
            "262    493\n",
            "270    493\n",
            "271    493\n",
            "334    477\n",
            "412    420\n",
            "Name: Horsepower, dtype: int64\n"
          ]
        }
      ]
    },
    {
      "cell_type": "markdown",
      "source": [
        "8. Simulează o matrice de dimensiune 600×10 în care fiecare valoare este o valoare întreagă aleatoare între 150 și 300.\n",
        "\n",
        "1.Numără de câte ori apare o valoare peste 250 pe fiecare rând;\n",
        "\n",
        "2.Calculează frecvența relativă a acestor apariții;\n",
        "\n",
        "3.Afișează media generală a acestor frecvențe."
      ],
      "metadata": {
        "id": "whULg7XT8GV3"
      }
    },
    {
      "cell_type": "code",
      "source": [
        "mat = np.random.randint(150, 301, size=(600, 10))\n",
        "peste_250 = np.sum(mat > 250, axis=1)\n",
        "frecv = peste_250 / 10\n",
        "print(peste_250[:5])\n",
        "print(frecv[:5])\n",
        "print(frecv.mean())"
      ],
      "metadata": {
        "colab": {
          "base_uri": "https://localhost:8080/"
        },
        "id": "LIuS4rIb8u7N",
        "outputId": "228e1d46-f4f3-4e0e-b369-c2af5917512f"
      },
      "execution_count": 20,
      "outputs": [
        {
          "output_type": "stream",
          "name": "stdout",
          "text": [
            "[4 6 1 2 2]\n",
            "[0.4 0.6 0.1 0.2 0.2]\n",
            "0.321\n"
          ]
        }
      ]
    },
    {
      "cell_type": "markdown",
      "source": [
        "9. Sortează datele în ordine crescătoare după MPG_Highway. Afișează primele 3 rânduri, doar cu coloanele Make, Model, MPG_Highway."
      ],
      "metadata": {
        "id": "-KYGPHAS8GkG"
      }
    },
    {
      "cell_type": "code",
      "source": [
        "print(cars.sort_values(\"MPG_Highway\")[[\"Make\", \"Model\", \"MPG_Highway\"]].head(3))"
      ],
      "metadata": {
        "colab": {
          "base_uri": "https://localhost:8080/"
        },
        "id": "nL34kU_n8vox",
        "outputId": "7a2ae324-f2c7-41c7-cb13-a4525b5c0ee2"
      },
      "execution_count": 21,
      "outputs": [
        {
          "output_type": "stream",
          "name": "stdout",
          "text": [
            "              Make              Model  MPG_Highway\n",
            "166         Hummer                 H2           12\n",
            "118           Ford  Excursion 6.8 XLT           13\n",
            "251  Mercedes-Benz               G500           14\n"
          ]
        }
      ]
    },
    {
      "cell_type": "markdown",
      "source": [
        "10. Identifică cele mai frecvente 10 mărci (Make) din setul de date. Construiește un grafic de tip countplot care:\n",
        "\n",
        "1.să afișeze aceste mărci pe axa X;\n",
        "\n",
        "2.să coloreze barele în funcție de DriveTrain;\n",
        "\n",
        "3.să afișeze o bară pentru fiecare combinație Make–DriveTrain;\n",
        "\n",
        "4.să păstreze ordinea descrescătoare a frecvențelor pe axa X."
      ],
      "metadata": {
        "id": "ys8JS4x48eN8"
      }
    },
    {
      "cell_type": "code",
      "source": [
        "top10 = cars[\"Make\"].value_counts().head(10).index\n",
        "plt.figure(figsize=(10, 5))\n",
        "sns.countplot(data=cars[cars[\"Make\"].isin(top10)], x=\"Make\", hue=\"DriveTrain\", order=top10)\n",
        "plt.xticks(rotation=45)\n",
        "plt.tight_layout()\n",
        "plt.show()"
      ],
      "metadata": {
        "colab": {
          "base_uri": "https://localhost:8080/",
          "height": 507
        },
        "id": "WtkSx3A88wMR",
        "outputId": "76b75a01-5b26-408a-a7ef-23c843e8ee1c"
      },
      "execution_count": 22,
      "outputs": [
        {
          "output_type": "display_data",
          "data": {
            "text/plain": [
              "<Figure size 1000x500 with 1 Axes>"
            ],
            "image/png": "[encoded data removed]"
          },
          "metadata": {}
        }
      ]
    }
  ]
}