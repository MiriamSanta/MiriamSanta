{
  "nbformat": 4,
  "nbformat_minor": 0,
  "metadata": {
    "colab": {
      "provenance": [],
      "authorship_tag": "ABX9TyNyUQaKe022QhyNFqBpVbcm",
      "include_colab_link": true
    },
    "kernelspec": {
      "name": "python3",
      "display_name": "Python 3"
    },
    "language_info": {
      "name": "python"
    }
  },
  "cells": [
    {
      "cell_type": "markdown",
      "metadata": {
        "id": "view-in-github",
        "colab_type": "text"
      },
      "source": [
        "<a href=\"https://colab.research.google.com/github/MiriamSanta/MiriamSanta/blob/main/seminar1.ipynb\" target=\"_parent\"><img src=\"https://colab.research.google.com/assets/colab-badge.svg\" alt=\"Open In Colab\"/></a>"
      ]
    },
    {
      "cell_type": "code",
      "execution_count": null,
      "metadata": {
        "id": "0eOCvSfo5G17"
      },
      "outputs": [],
      "source": []
    },
    {
      "cell_type": "markdown",
      "source": [
        "Seminar 1"
      ],
      "metadata": {
        "id": "F2gywvwD5KRq"
      }
    },
    {
      "cell_type": "code",
      "source": [
        "nume = \"Miriam Santa\"\n",
        "print (nume)"
      ],
      "metadata": {
        "colab": {
          "base_uri": "https://localhost:8080/"
        },
        "id": "RMQjYRqn5NE8",
        "outputId": "9fddfd94-d66e-479b-df28-d4d16c123f03"
      },
      "execution_count": null,
      "outputs": [
        {
          "output_type": "stream",
          "name": "stdout",
          "text": [
            "Miriam Santa\n"
          ]
        }
      ]
    },
    {
      "cell_type": "code",
      "source": [
        "a = 10\n",
        "b = 5\n",
        "rezultat = a - b\n",
        "print(\"Rezultatul este: \", rezultat)"
      ],
      "metadata": {
        "colab": {
          "base_uri": "https://localhost:8080/"
        },
        "id": "wWcL-nNh5yRk",
        "outputId": "3455ed43-2296-4496-fa9e-5072a6e09735"
      },
      "execution_count": null,
      "outputs": [
        {
          "output_type": "stream",
          "name": "stdout",
          "text": [
            "Rezultatul este:  5\n"
          ]
        }
      ]
    },
    {
      "cell_type": "code",
      "source": [
        "x = True\n",
        "print(\"Valoarea lu x: \", x)\n",
        "print(\"Tipul de date al lui x: \", type(x))"
      ],
      "metadata": {
        "colab": {
          "base_uri": "https://localhost:8080/"
        },
        "id": "oiNfaFz16JR1",
        "outputId": "8cf58d58-ec88-42b3-c67e-c6fc394313dd"
      },
      "execution_count": null,
      "outputs": [
        {
          "output_type": "stream",
          "name": "stdout",
          "text": [
            "Valoarea lu x:  True\n",
            "Tipul de date al lui x:  <class 'bool'>\n"
          ]
        }
      ]
    },
    {
      "cell_type": "code",
      "source": [
        "pi = 3.141592653589793\n",
        "pi_rotunjit = round(pi, 2)\n",
        "print(\"pi rotunjit la 2 zecimale:\", pi_rotunjit)"
      ],
      "metadata": {
        "colab": {
          "base_uri": "https://localhost:8080/"
        },
        "id": "wk_y8q4b62P2",
        "outputId": "86f98547-a0c7-4084-bf6c-a1fc7bf7e503"
      },
      "execution_count": null,
      "outputs": [
        {
          "output_type": "stream",
          "name": "stdout",
          "text": [
            "pi rotunjit la 2 zecimale: 3.14\n"
          ]
        }
      ]
    },
    {
      "cell_type": "code",
      "source": [
        "a = 10\n",
        "b = 5\n",
        "c = 8\n",
        "\n",
        "rezultat = (a > b) and (c < a)\n",
        "print(\"a > b si c < a este\", rezultat)"
      ],
      "metadata": {
        "colab": {
          "base_uri": "https://localhost:8080/"
        },
        "id": "YbJDP2kQ7WWT",
        "outputId": "95b94c4d-4824-4aef-bff7-8a660d7f860c"
      },
      "execution_count": null,
      "outputs": [
        {
          "output_type": "stream",
          "name": "stdout",
          "text": [
            "a > b si c < a este True\n"
          ]
        }
      ]
    },
    {
      "cell_type": "code",
      "source": [
        "import math\n",
        "rezultat = math.pow(4, 2)\n",
        "print (\"patratul lui 4 este:\" , rezultat)"
      ],
      "metadata": {
        "colab": {
          "base_uri": "https://localhost:8080/"
        },
        "id": "lR2zHq4K85KD",
        "outputId": "5e1deaa2-e576-4168-a406-67f6652b2703"
      },
      "execution_count": null,
      "outputs": [
        {
          "output_type": "stream",
          "name": "stdout",
          "text": [
            "patratul lui 4 este: 16.0\n"
          ]
        }
      ]
    },
    {
      "cell_type": "code",
      "source": [
        "import numpy as np\n",
        "numar_aleator = np.random.rand()\n",
        "print(f\"Numarul aleator generat este: {numar_aleator: 4f}\")"
      ],
      "metadata": {
        "colab": {
          "base_uri": "https://localhost:8080/"
        },
        "id": "BtZHfV0w9JcK",
        "outputId": "65fe7902-1ed9-4470-c902-e8f5c2f77860"
      },
      "execution_count": null,
      "outputs": [
        {
          "output_type": "stream",
          "name": "stdout",
          "text": [
            "Numarul aleator generat este:  0.124067\n"
          ]
        }
      ]
    },
    {
      "cell_type": "code",
      "source": [
        "temperatura = 20\n",
        "\n",
        "if temperatura >= 25:\n",
        "  print(\"cald\")\n",
        "elif temperatura >= 15:\n",
        "  print(\"placut\")\n",
        "else:\n",
        "  print(\"rece\")"
      ],
      "metadata": {
        "colab": {
          "base_uri": "https://localhost:8080/"
        },
        "id": "fYsj77d39xj-",
        "outputId": "df31d9d6-8601-43ad-dcb5-2cbed8f557fb"
      },
      "execution_count": null,
      "outputs": [
        {
          "output_type": "stream",
          "name": "stdout",
          "text": [
            "placut\n"
          ]
        }
      ]
    },
    {
      "cell_type": "code",
      "source": [
        "numar = 1\n",
        "while numar <= 5:\n",
        "  print(numar)\n",
        "  numar += 1"
      ],
      "metadata": {
        "colab": {
          "base_uri": "https://localhost:8080/"
        },
        "id": "a7_NYJv9-dCO",
        "outputId": "c1ecd25d-eb05-4639-9290-ad52339d46ec"
      },
      "execution_count": null,
      "outputs": [
        {
          "output_type": "stream",
          "name": "stdout",
          "text": [
            "1\n",
            "2\n",
            "3\n",
            "4\n",
            "5\n"
          ]
        }
      ]
    },
    {
      "cell_type": "code",
      "source": [],
      "metadata": {
        "id": "mEPiLa5R-4NB"
      },
      "execution_count": null,
      "outputs": []
    }
  ]
}