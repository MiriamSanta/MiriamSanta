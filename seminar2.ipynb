{
  "nbformat": 4,
  "nbformat_minor": 0,
  "metadata": {
    "colab": {
      "provenance": [],
      "authorship_tag": "ABX9TyM3rSKahCihKk8oZPZ20/CL",
      "include_colab_link": true
    },
    "kernelspec": {
      "name": "python3",
      "display_name": "Python 3"
    },
    "language_info": {
      "name": "python"
    }
  },
  "cells": [
    {
      "cell_type": "markdown",
      "metadata": {
        "id": "view-in-github",
        "colab_type": "text"
      },
      "source": [
        "<a href=\"https://colab.research.google.com/github/MiriamSanta/MiriamSanta/blob/main/seminar2.ipynb\" target=\"_parent\"><img src=\"https://colab.research.google.com/assets/colab-badge.svg\" alt=\"Open In Colab\"/></a>"
      ]
    },
    {
      "cell_type": "code",
      "execution_count": 1,
      "metadata": {
        "colab": {
          "base_uri": "https://localhost:8080/"
        },
        "id": "sJcwFth-tQOg",
        "outputId": "7f36c0b3-014c-4df9-9b71-5b316c0570c2"
      },
      "outputs": [
        {
          "output_type": "stream",
          "name": "stdout",
          "text": [
            "a and b: False\n",
            "a or b: True\n",
            "not a: False\n",
            "not b: True\n"
          ]
        }
      ],
      "source": [
        "a = True\n",
        "b = False\n",
        "print(\"a and b:\", a and b)\n",
        "print(\"a or b:\", a or b)\n",
        "print(\"not a:\", not a)\n",
        "print(\"not b:\", not b)"
      ]
    },
    {
      "cell_type": "code",
      "source": [
        "x = int(input(\"Introduceti un numar: \"))\n",
        "if x >= 8:\n",
        "  print(\"x >= 8\")\n",
        "else:\n",
        "  print(\"x < 8\")"
      ],
      "metadata": {
        "colab": {
          "base_uri": "https://localhost:8080/"
        },
        "id": "6H1Xva3ZuFSP",
        "outputId": "2a7d9d29-5828-4bab-8fa7-50a2f38d0897"
      },
      "execution_count": 2,
      "outputs": [
        {
          "output_type": "stream",
          "name": "stdout",
          "text": [
            "Introduceti un numar: 5\n",
            "x < 8\n"
          ]
        }
      ]
    },
    {
      "cell_type": "code",
      "source": [
        "def suma(a, b):\n",
        "  return a + b\n",
        "print(\"Suma lui 3 si 5 este:\", suma(3, 5))"
      ],
      "metadata": {
        "colab": {
          "base_uri": "https://localhost:8080/"
        },
        "id": "twa_IVkrv_Uh",
        "outputId": "ec97863e-3d2d-492a-fcc5-5a0103862702"
      },
      "execution_count": 3,
      "outputs": [
        {
          "output_type": "stream",
          "name": "stdout",
          "text": [
            "Suma lui 3 si 5 este: 8\n"
          ]
        }
      ]
    },
    {
      "cell_type": "code",
      "source": [
        "dublu = lambda numar: numar * 2\n",
        "print(\"Dublul lui 4 este: \", dublu(4))"
      ],
      "metadata": {
        "colab": {
          "base_uri": "https://localhost:8080/"
        },
        "id": "zy3jDHQIwVh_",
        "outputId": "03217415-b363-4f20-901a-2b9c60f711ca"
      },
      "execution_count": 4,
      "outputs": [
        {
          "output_type": "stream",
          "name": "stdout",
          "text": [
            "Dublul lui 4 este:  8\n"
          ]
        }
      ]
    },
    {
      "cell_type": "code",
      "source": [
        "fructe = [\"mar\", \"para\"]\n",
        "fructe.append(\"portocala\")\n",
        "print(\"lista actualizata este:\", fructe)\n"
      ],
      "metadata": {
        "colab": {
          "base_uri": "https://localhost:8080/"
        },
        "id": "lzTF31rjwpV0",
        "outputId": "e145d744-8db7-4933-d516-3616598a677c"
      },
      "execution_count": 5,
      "outputs": [
        {
          "output_type": "stream",
          "name": "stdout",
          "text": [
            "lista actualizata este: ['mar', 'para', 'portocala']\n"
          ]
        }
      ]
    },
    {
      "cell_type": "code",
      "source": [
        "numere_impare = tuple(range(1,20, 2))\n",
        "print(\"Tuple-ul cu numere impare:\", numere_impare)\n",
        "print(\"Primul element este:\", numere_impare[0])"
      ],
      "metadata": {
        "colab": {
          "base_uri": "https://localhost:8080/"
        },
        "id": "Xuy550UvxOJb",
        "outputId": "66c692c6-5082-49aa-f936-8afbe8406cfe"
      },
      "execution_count": 7,
      "outputs": [
        {
          "output_type": "stream",
          "name": "stdout",
          "text": [
            "Tuple-ul cu numere impare: (1, 3, 5, 7, 9, 11, 13, 15, 17, 19)\n",
            "Primul element este: 1\n"
          ]
        }
      ]
    },
    {
      "cell_type": "code",
      "source": [
        "cuvant = \"python\"\n",
        "cuvant_inversat = cuvant[::-1]\n",
        "print(\"Cuvant inversat:\", cuvant_inversat)\n",
        "print(\"Primele 3 caractere inversate:\", cuvant_inversat[:3])"
      ],
      "metadata": {
        "colab": {
          "base_uri": "https://localhost:8080/"
        },
        "id": "yVG0I0j2xyef",
        "outputId": "08e2b7d7-dcb6-4eb1-e80f-6adc8ff38d09"
      },
      "execution_count": 8,
      "outputs": [
        {
          "output_type": "stream",
          "name": "stdout",
          "text": [
            "Cuvant inversat: nohtyp\n",
            "Primele 3 caractere inversate: noh\n"
          ]
        }
      ]
    },
    {
      "cell_type": "code",
      "source": [
        "lista = [3, 7, 2, 9, 5]\n",
        "if 7 in lista:\n",
        "  for index, valoare in enumerate(lista):\n",
        "    if valoare == 7:\n",
        "      print(\"Numarul 7 se afla la pozitia:\", index)"
      ],
      "metadata": {
        "colab": {
          "base_uri": "https://localhost:8080/"
        },
        "id": "6hjKt1lHy8g_",
        "outputId": "344937c8-940a-4aa6-a92b-6f25db474432"
      },
      "execution_count": 9,
      "outputs": [
        {
          "output_type": "stream",
          "name": "stdout",
          "text": [
            "Numarul 7 se afla la pozitia: 1\n"
          ]
        }
      ]
    },
    {
      "cell_type": "code",
      "source": [
        "for element in lista:\n",
        "  print(element)"
      ],
      "metadata": {
        "colab": {
          "base_uri": "https://localhost:8080/"
        },
        "id": "0l2-UtpOzXGW",
        "outputId": "1a599d5e-64e7-43ee-d924-aaeac436bdae"
      },
      "execution_count": 10,
      "outputs": [
        {
          "output_type": "stream",
          "name": "stdout",
          "text": [
            "3\n",
            "7\n",
            "2\n",
            "9\n",
            "5\n"
          ]
        }
      ]
    },
    {
      "cell_type": "code",
      "source": [
        "stoc_produse = {\"telefoane\": 20, \"tablete\": 5, \"laptopuri\": 10}\n",
        "print(\"Pretul unui telefon:\", stoc_produse[\"telefoane\"])"
      ],
      "metadata": {
        "colab": {
          "base_uri": "https://localhost:8080/"
        },
        "id": "1ytO7XeUzdIN",
        "outputId": "9c315943-c3a7-4f10-b363-e959e022eef6"
      },
      "execution_count": 11,
      "outputs": [
        {
          "output_type": "stream",
          "name": "stdout",
          "text": [
            "Pretul unui telefon: 20\n"
          ]
        }
      ]
    },
    {
      "cell_type": "code",
      "source": [],
      "metadata": {
        "id": "18fonPt9z8-I"
      },
      "execution_count": null,
      "outputs": []
    }
  ]
}