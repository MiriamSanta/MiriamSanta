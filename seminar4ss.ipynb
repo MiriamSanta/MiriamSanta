{
  "nbformat": 4,
  "nbformat_minor": 0,
  "metadata": {
    "colab": {
      "provenance": [],
      "authorship_tag": "ABX9TyOM1pVpx9362Fa0uJL5n4j5",
      "include_colab_link": true
    },
    "kernelspec": {
      "name": "python3",
      "display_name": "Python 3"
    },
    "language_info": {
      "name": "python"
    }
  },
  "cells": [
    {
      "cell_type": "markdown",
      "metadata": {
        "id": "view-in-github",
        "colab_type": "text"
      },
      "source": [
        "<a href=\"https://colab.research.google.com/github/MiriamSanta/MiriamSanta/blob/main/seminar4ss.ipynb\" target=\"_parent\"><img src=\"https://colab.research.google.com/assets/colab-badge.svg\" alt=\"Open In Colab\"/></a>"
      ]
    },
    {
      "cell_type": "code",
      "execution_count": 1,
      "metadata": {
        "id": "3A5YhJ-so9_F"
      },
      "outputs": [],
      "source": [
        "import numpy as np"
      ]
    },
    {
      "cell_type": "code",
      "source": [
        "valori_uniforme = np.linspace(1, 10, 5)\n",
        "valori_uniforme"
      ],
      "metadata": {
        "colab": {
          "base_uri": "https://localhost:8080/"
        },
        "id": "-KBZf6DL_diX",
        "outputId": "1944eedc-4f7c-4aa6-85c9-b34a725e69fd"
      },
      "execution_count": 2,
      "outputs": [
        {
          "output_type": "execute_result",
          "data": {
            "text/plain": [
              "array([ 1.  ,  3.25,  5.5 ,  7.75, 10.  ])"
            ]
          },
          "metadata": {},
          "execution_count": 2
        }
      ]
    },
    {
      "cell_type": "code",
      "source": [
        "valori_normale = np.random.randn(5)\n",
        "valori_normale"
      ],
      "metadata": {
        "colab": {
          "base_uri": "https://localhost:8080/"
        },
        "id": "C4kbXYZk_qMJ",
        "outputId": "f7f5ae3f-cd33-40ca-9bdc-b6f9860f8972"
      },
      "execution_count": 3,
      "outputs": [
        {
          "output_type": "execute_result",
          "data": {
            "text/plain": [
              "array([ 1.02327537,  1.05628669, -0.36214638,  0.12157686,  0.09622303])"
            ]
          },
          "metadata": {},
          "execution_count": 3
        }
      ]
    },
    {
      "cell_type": "code",
      "source": [
        "valori_normale = np.random.randn(1000)"
      ],
      "metadata": {
        "id": "y3mDuJYW_1IL"
      },
      "execution_count": 4,
      "outputs": []
    },
    {
      "cell_type": "code",
      "source": [
        "media = np.mean(valori_normale)\n",
        "dev_std = np.std(valori_normale)\n",
        "media, dev_std"
      ],
      "metadata": {
        "colab": {
          "base_uri": "https://localhost:8080/"
        },
        "id": "6opEgBvMAlo7",
        "outputId": "8c1561c4-b713-496b-d3c2-1f40075dba9e"
      },
      "execution_count": 5,
      "outputs": [
        {
          "output_type": "execute_result",
          "data": {
            "text/plain": [
              "(np.float64(0.06322671780206449), np.float64(0.9722280917986594))"
            ]
          },
          "metadata": {},
          "execution_count": 5
        }
      ]
    },
    {
      "cell_type": "code",
      "source": [
        "set_1 = np.array([4,5,6])\n",
        "media_1 =np.mean(set_1)\n",
        "std_1 =np.std(set_1)\n",
        "media_1, std_1"
      ],
      "metadata": {
        "colab": {
          "base_uri": "https://localhost:8080/"
        },
        "id": "KNQuOr6XAzdf",
        "outputId": "01ed8e00-9f57-4a9a-a975-2c2a086cc1d5"
      },
      "execution_count": 6,
      "outputs": [
        {
          "output_type": "execute_result",
          "data": {
            "text/plain": [
              "(np.float64(5.0), np.float64(0.816496580927726))"
            ]
          },
          "metadata": {},
          "execution_count": 6
        }
      ]
    },
    {
      "cell_type": "code",
      "source": [
        "income = np.genfromtxt(\"https://raw.githubusercontent.com/gagolews/\" +\n",
        "\"teaching-data/master/marek/uk_income_simulated_2020.txt\")"
      ],
      "metadata": {
        "id": "RhOJS-VMCLfX"
      },
      "execution_count": 7,
      "outputs": []
    },
    {
      "cell_type": "code",
      "source": [
        "import matplotlib.pyplot as plt"
      ],
      "metadata": {
        "id": "zrxJX-MbCOeZ"
      },
      "execution_count": 9,
      "outputs": []
    },
    {
      "cell_type": "code",
      "source": [
        "plt.subplot(1,2,1)\n",
        "plt.hist(income, bins = 5, color = \"red\")\n",
        "plt.ylabel(\"Count\")\n",
        "\n",
        "plt.subplot(1,2,2)\n",
        "plt.hist(income, bins = 50, color =\"green\")\n",
        "plt.ylabel()"
      ],
      "metadata": {
        "id": "cmLonduoCWZO"
      },
      "execution_count": null,
      "outputs": []
    }
  ]
}